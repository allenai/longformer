{
  "nbformat": 4,
  "nbformat_minor": 0,
  "metadata": {
    "colab": {
      "name": "convert_model_to_long.ipynb",
      "provenance": [],
      "collapsed_sections": [],
      "include_colab_link": true
    },
    "kernelspec": {
      "name": "python3",
      "display_name": "Python 3"
    },
    "accelerator": "GPU"
  },
  "cells": [
    {
      "cell_type": "markdown",
      "metadata": {
        "id": "view-in-github",
        "colab_type": "text"
      },
      "source": [
        "<a href=\"https://colab.research.google.com/github/allenai/longformer/blob/convert_model_to_long/scripts/convert_model_to_long.ipynb\" target=\"_parent\"><img src=\"https://colab.research.google.com/assets/colab-badge.svg\" alt=\"Open In Colab\"/></a>"
      ]
    },
    {
      "cell_type": "code",
      "metadata": {
        "id": "7AZZ4VmKSwvH",
        "colab_type": "code",
        "colab": {}
      },
      "source": [
        "!wget https://s3.amazonaws.com/research.metamind.io/wikitext/wikitext-103-raw-v1.zip\n",
        "!unzip wikitext-103-raw-v1.zip"
      ],
      "execution_count": 0,
      "outputs": []
    },
    {
      "cell_type": "code",
      "metadata": {
        "id": "o3yjIYKXw3rL",
        "colab_type": "code",
        "colab": {}
      },
      "source": [
        "!pip install transformers"
      ],
      "execution_count": 0,
      "outputs": []
    },
    {
      "cell_type": "code",
      "metadata": {
        "id": "U0NnMMl6wy7Q",
        "colab_type": "code",
        "colab": {}
      },
      "source": [
        "import logging\n",
        "import os\n",
        "from dataclasses import dataclass, field\n",
        "from transformers import RobertaForMaskedLM, RobertaTokenizerFast, TextDataset, DataCollatorForLanguageModeling, Trainer\n",
        "from transformers import TrainingArguments, HfArgumentParser\n",
        "from transformers.modeling_longformer import LongformerSelfAttention\n",
        "\n",
        "logger = logging.getLogger(__name__)\n",
        "logging.basicConfig(level=logging.INFO)"
      ],
      "execution_count": 0,
      "outputs": []
    },
    {
      "cell_type": "code",
      "metadata": {
        "id": "J9EBISkRxPjO",
        "colab_type": "code",
        "colab": {}
      },
      "source": [
        "class RobertaLongForMaskedLM(RobertaForMaskedLM):\n",
        "    \"\"\"A Long version of the RoBERTa model\"\"\"\n",
        "    def __init__(self, config):\n",
        "        super().__init__(config)\n",
        "        for i, layer in enumerate(self.roberta.encoder.layer):\n",
        "            # replace the `modeling_bert.BertSelfAttention` object with `LongformerSelfAttention`\n",
        "            layer.attention.self = LongformerSelfAttention(config, layer_id=i)"
      ],
      "execution_count": 0,
      "outputs": []
    },
    {
      "cell_type": "code",
      "metadata": {
        "id": "-m4A_ttixPuf",
        "colab_type": "code",
        "colab": {}
      },
      "source": [
        "def create_long_model(save_model_to, attention_window, max_pos):\n",
        "    '''Convert a roberta model into roberta-long. This function is specific to the roberta model\n",
        "    (e.g, the +2 positions), but it can be adapted to other models if needed. The output of this function\n",
        "    works for long documents with no pretraining, but pretraining still should improve it. \n",
        "    '''\n",
        "\n",
        "    model = RobertaForMaskedLM.from_pretrained('roberta-base')\n",
        "    tokenizer = RobertaTokenizerFast.from_pretrained('roberta-base', model_max_length=max_pos)\n",
        "    config = model.config\n",
        "\n",
        "    # extend position embeddings\n",
        "    tokenizer.model_max_length = max_pos\n",
        "    tokenizer.init_kwargs['model_max_length'] = max_pos\n",
        "    current_max_pos, embed_size = model.roberta.embeddings.position_embeddings.weight.shape\n",
        "    max_pos += 2  # NOTE: RoBERTa has positions 0,1 reserved, so embedding size is max position + 2\n",
        "    config.max_position_embeddings = max_pos\n",
        "    assert max_pos > current_max_pos\n",
        "    # allocate a larger position embedding matrix\n",
        "    new_pos_embed = model.roberta.embeddings.position_embeddings.weight.new_empty(max_pos, embed_size)\n",
        "    # copy position embeddings over and over to initialize the new position embeddings\n",
        "    k = 2\n",
        "    step = current_max_pos - 2\n",
        "    while k < max_pos - 1:\n",
        "        new_pos_embed[k:(k + step)] = model.roberta.embeddings.position_embeddings.weight[2:]\n",
        "        k += step\n",
        "    model.roberta.embeddings.position_embeddings.weight.data = new_pos_embed\n",
        "\n",
        "    # replace the `modeling_bert.BertSelfAttention` object with `LongformerSelfAttention`\n",
        "    config.attention_window = [attention_window] * config.num_hidden_layers\n",
        "    for i, layer in enumerate(model.roberta.encoder.layer):\n",
        "        longformer_self_attn = LongformerSelfAttention(config, layer_id=i)\n",
        "        longformer_self_attn.query = layer.attention.self.query\n",
        "        longformer_self_attn.key = layer.attention.self.key\n",
        "        longformer_self_attn.value = layer.attention.self.value\n",
        "\n",
        "        longformer_self_attn.query_global = layer.attention.self.query\n",
        "        longformer_self_attn.key_global = layer.attention.self.key\n",
        "        longformer_self_attn.value_global = layer.attention.self.value\n",
        "\n",
        "        layer.attention.self = longformer_self_attn\n",
        "\n",
        "    logger.info(f'saving model to {save_model_to}')\n",
        "    model.save_pretrained(save_model_to)\n",
        "    tokenizer.save_pretrained(save_model_to)\n",
        "    return model, tokenizer"
      ],
      "execution_count": 0,
      "outputs": []
    },
    {
      "cell_type": "code",
      "metadata": {
        "id": "CO3MoEgCxP9W",
        "colab_type": "code",
        "colab": {}
      },
      "source": [
        "def copy_proj_layers(model):\n",
        "    '''Pretraining on MLM doesn't update the global projection layers. After pretraining,\n",
        "    copy `query`, `key`, `value` into their global counterpart'''\n",
        "\n",
        "    for i, layer in enumerate(model.roberta.encoder.layer):\n",
        "        layer.attention.self.query_global = layer.attention.self.query\n",
        "        layer.attention.self.key_global = layer.attention.self.key\n",
        "        layer.attention.self.value_global = layer.attention.self.value\n",
        "    return model"
      ],
      "execution_count": 0,
      "outputs": []
    },
    {
      "cell_type": "code",
      "metadata": {
        "id": "wC2sddeLyVhA",
        "colab_type": "code",
        "colab": {}
      },
      "source": [
        "def pretrain(args, model, tokenizer, eval_only, model_path):\n",
        "    \"\"\"Pretrain a Long model on MLM\"\"\"\n",
        "    val_dataset = TextDataset(tokenizer=tokenizer, file_path=args.val_datapath, block_size=tokenizer.max_len)\n",
        "    if eval_only:\n",
        "        train_dataset = val_dataset\n",
        "    else:\n",
        "        logger.info(f'Loading and tokenizing training data is usually slow: {args.train_datapath}')\n",
        "        train_dataset = TextDataset(tokenizer=tokenizer, file_path=args.train_datapath, block_size=tokenizer.max_len)\n",
        "    data_collator = DataCollatorForLanguageModeling(tokenizer=tokenizer, mlm=True, mlm_probability=0.15)\n",
        "    trainer = Trainer(model=model, args=args, data_collator=data_collator,\n",
        "                      train_dataset=train_dataset, eval_dataset=val_dataset, prediction_loss_only=True,)\n",
        "    eval_loss = trainer.evaluate()\n",
        "    eval_loss = eval_loss['eval_loss']\n",
        "    logger.info(f'Initial eval loss: {eval_loss}')\n",
        "\n",
        "    if not eval_only:\n",
        "        trainer.train(model_path=model_path)\n",
        "        trainer.save_model()\n",
        "\n",
        "        eval_loss = trainer.evaluate()\n",
        "        eval_loss = eval_loss['eval_loss']\n",
        "        logger.info(f'Eval loss after pretraining: {eval_loss}')"
      ],
      "execution_count": 0,
      "outputs": []
    },
    {
      "cell_type": "code",
      "metadata": {
        "id": "Zl_hDDlryVo2",
        "colab_type": "code",
        "colab": {}
      },
      "source": [
        "# Configuration of the Long model\n",
        "@dataclass\n",
        "class ModelArgs:\n",
        "    attention_window: int = field(default=512, metadata={\"help\": \"Size of attention window\"})\n",
        "    max_pos: int = field(default=4096, metadata={\"help\": \"Maximum position\"})\n",
        "\n",
        "parser = HfArgumentParser((TrainingArguments, ModelArgs,))\n",
        "\n",
        "# NOTE: Pretraining will take 2 days on 1 x 32GB GPU with fp32. Consider changing the config below\n",
        "# to use fp16 and to use more gpus to train faster.\n",
        "training_args, model_args = parser.parse_args_into_dataclasses(look_for_args_file=False, args=[\n",
        "    'script.py',\n",
        "    '--output_dir', 'tmp',\n",
        "    '--warmup_steps', '500',\n",
        "    '--learning_rate', '0.00003',\n",
        "    # '--lr_scheduler', 'constant',  # in the paper: polynomial_decay with power 3. Both are not supported in HF trainer\n",
        "    '--weight_decay', '0.01',\n",
        "    '--adam_epsilon', '1e-6',\n",
        "    # NOTE: in the paper, we train for 65k steps, but 3k is probably enough because this is where most of the training\n",
        "    # happens. However, the learning rate scheduler should be `constant` after warmup\n",
        "    '--max_steps', '3000',\n",
        "    '--logging_steps', '500',\n",
        "    '--save_steps', '500',\n",
        "    '--max_grad_norm', '5.0',\n",
        "    '--per_gpu_eval_batch_size', '8',\n",
        "    # NOTE: num of tokens per batch = batch size (2) x number of gpus (1) x gradient accumulation (32) x seqlen (4096) = 262144\n",
        "    '--per_gpu_train_batch_size', '2',  # 32GB gpu with fp32\n",
        "    '--device', 'cuda0',  # one GPU\n",
        "    '--gradient_accumulation_steps', '32',\n",
        "    '--evaluate_during_training',\n",
        "    '--do_train',\n",
        "    '--do_eval',\n",
        "])\n",
        "# NOTE: wikitext3 is not large enough, and 3k steps is 7 epochs.\n",
        "# Consider doing one epoch on a larger dataset (800M tokens) instead.\n",
        "training_args.val_datapath = 'wikitext-103-raw/wiki.valid.raw'\n",
        "training_args.train_datapath = 'wikitext-103-raw/wiki.train.raw'"
      ],
      "execution_count": 0,
      "outputs": []
    },
    {
      "cell_type": "code",
      "metadata": {
        "id": "JiKj7D1c1ovy",
        "colab_type": "code",
        "colab": {}
      },
      "source": [
        "# Evaluate roberta-base to get a reference performance\n",
        "roberta_base = RobertaForMaskedLM.from_pretrained('roberta-base')\n",
        "roberta_base_tokenizer = RobertaTokenizerFast.from_pretrained('roberta-base')\n",
        "logger.info('Evaluating roberta-base (seqlen: 512) for refernece ...')\n",
        "pretrain(training_args, roberta_base, roberta_base_tokenizer, eval_only=True, model_path=None)"
      ],
      "execution_count": 0,
      "outputs": []
    },
    {
      "cell_type": "code",
      "metadata": {
        "id": "c7tcsSfZ1-b9",
        "colab_type": "code",
        "colab": {}
      },
      "source": [
        "\n",
        "model_path = f'{training_args.output_dir}/roberta-base-{model_args.max_pos}'\n",
        "if not os.path.exists(model_path):\n",
        "    os.makedirs(model_path)\n",
        "\n",
        "logger.info(f'Converting roberta-base into roberta-base-{model_args.max_pos}')\n",
        "model, tokenizer = create_long_model(\n",
        "    save_model_to=model_path, attention_window=model_args.attention_window, max_pos=model_args.max_pos)\n",
        "\n",
        "logger.info(f'Loading the model from {model_path}')\n",
        "tokenizer = RobertaTokenizerFast.from_pretrained(model_path)\n",
        "model = RobertaLongForMaskedLM.from_pretrained(model_path)\n",
        "\n",
        "logger.info(f'Pretraining roberta-base-{model_args.max_pos} ... ')\n",
        "pretrain(training_args, model, tokenizer, eval_only=False, model_path=training_args.output_dir)\n",
        "\n",
        "logger.info(f'Copying local projection layers into global projection layers ... ')\n",
        "model = copy_proj_layers(model)\n",
        "logger.info(f'Saving model to {model_path}')\n",
        "model.save_pretrained(model_path)\n"
      ],
      "execution_count": 0,
      "outputs": []
    }
  ]
}